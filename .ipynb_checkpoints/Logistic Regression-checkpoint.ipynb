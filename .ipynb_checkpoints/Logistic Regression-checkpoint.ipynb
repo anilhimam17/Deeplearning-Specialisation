{
 "cells": [
  {
   "cell_type": "markdown",
   "id": "9a8d889b-4756-46cb-82ab-c3285fa0d650",
   "metadata": {},
   "source": [
    "## Packages"
   ]
  },
  {
   "cell_type": "code",
   "execution_count": 4,
   "id": "028b9e4d-5422-46b4-ad8a-6b27f72e3c10",
   "metadata": {},
   "outputs": [],
   "source": [
    "import numpy as np\n",
    "import copy\n",
    "import matplotlib.pyplot as plt\n",
    "import h5py\n",
    "from PIL import Image\n",
    "from scipy import ndimage\n",
    "from lr_utils import load_dataset"
   ]
  },
  {
   "cell_type": "markdown",
   "id": "3a0a65b3-9237-42ad-89da-66d1599beadc",
   "metadata": {},
   "source": [
    "## Problem Statement\n",
    "\n",
    "**Given:**\n",
    "\n",
    "    - A dataset of <mark>h5 images</mark>"
   ]
  },
  {
   "cell_type": "code",
   "execution_count": null,
   "id": "f9faf578-f04f-440d-a73c-03310a2569b4",
   "metadata": {},
   "outputs": [],
   "source": []
  }
 ],
 "metadata": {
  "kernelspec": {
   "display_name": "Python 3 (ipykernel)",
   "language": "python",
   "name": "python3"
  },
  "language_info": {
   "codemirror_mode": {
    "name": "ipython",
    "version": 3
   },
   "file_extension": ".py",
   "mimetype": "text/x-python",
   "name": "python",
   "nbconvert_exporter": "python",
   "pygments_lexer": "ipython3",
   "version": "3.10.12"
  }
 },
 "nbformat": 4,
 "nbformat_minor": 5
}
